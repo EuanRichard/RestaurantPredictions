{
 "cells": [
  {
   "cell_type": "markdown",
   "metadata": {},
   "source": [
    "# Chainer  NumPy Output\n",
    "\n",
    "Creates a giant NumPy matrix that Chainer will be comfortable munching on.\n",
    "\n",
    "* X-axis: each store\n",
    "* Y-axis: each day\n",
    "* Z-axis: see below\n",
    "\n",
    "\n",
    "1. Customers on every single day for each shop\n",
    "1. Day of the week\n",
    "1. Holiday flag\n",
    "\n",
    "1. Reservations\n",
    "  * reserved for this day in AIR\n",
    "  * reserved for this day in HPG\n",
    "\n",
    "1. Genre of cuisine (one-hot)\n",
    "1. Location (one-hot)\n",
    "  * todofuken\n",
    "  * ku/shi\n",
    "  * Latitude\n",
    "  * Longitude\n",
    "\n",
    "1. Restaurant has opened yet\n",
    "1. Customers stuff from my program\n",
    "1. Golden week stuff\n",
    "1. Average info from other stores, as before"
   ]
  },
  {
   "cell_type": "code",
   "execution_count": 2,
   "metadata": {},
   "outputs": [],
   "source": [
    "import pandas as pd\n",
    "import matplotlib.pyplot as plt\n",
    "import seaborn as sns\n",
    "import numpy as np\n",
    "%matplotlib inline\n",
    "plt.rcParams[\"figure.figsize\"] = [12,11]\n",
    "\n",
    "from datetime import datetime\n",
    "from datetime import timedelta\n",
    "missing_stores = [\"air_d63cfa6d6ab78446\",\"air_b2d8bc9c88b85f96\",\"air_0ead98dd07e7a82a\",\"air_cb083b4789a8d3a2\",\"air_cf22e368c1a71d53\",\"air_d0a7bd3339c3d12a\",\"air_229d7e508d9f1b5e\",\"air_2703dcb33192b181\"]"
   ]
  },
  {
   "cell_type": "markdown",
   "metadata": {},
   "source": [
    "### Visitors"
   ]
  },
  {
   "cell_type": "code",
   "execution_count": 30,
   "metadata": {},
   "outputs": [],
   "source": [
    "# Read visit data\n",
    "visits = pd.read_csv(\"../input/air_visit_data.csv\",\n",
    "                     parse_dates=[\"visit_date\"])\n",
    "\n",
    "# Drop stores missing in the test data\n",
    "visits = visits.set_index([\"air_store_id\"]).drop(missing_stores).reset_index()\n",
    "\n",
    "\n",
    "# Pad with zeroes so all store / date combinations appear\n",
    "# also extend to cover the test period\n",
    "\n",
    "# Prepare all possible store / date pairs within range\n",
    "stores = visits[\"air_store_id\"].unique()\n",
    "dates = pd.date_range(visits[\"visit_date\"].min(), visits[\"visit_date\"].max() + timedelta(days=39))\n",
    "\n",
    "# Find all empty pairs\n",
    "visits.set_index([\"air_store_id\", \"visit_date\"], inplace=True)\n",
    "stores_to_fill = []\n",
    "dates_to_fill = []\n",
    "for store in stores:\n",
    "    for date in dates:\n",
    "        if (store, date) not in visits.index:\n",
    "            stores_to_fill.append(store)\n",
    "            dates_to_fill.append(date)\n",
    "visits.reset_index(inplace=True)\n",
    "\n",
    "# Pad with zeroes\n",
    "to_fill = pd.DataFrame()\n",
    "to_fill[\"air_store_id\"] = stores_to_fill\n",
    "to_fill[\"visit_date\"] = dates_to_fill\n",
    "to_fill[\"visitors\"] = np.zeros(len(stores_to_fill))\n",
    "visits = pd.concat([visits, to_fill])\n",
    "\n",
    "# re-sort\n",
    "visits = visits.set_index([\"air_store_id\", \"visit_date\"]).sort_index().reset_index()"
   ]
  },
  {
   "cell_type": "markdown",
   "metadata": {},
   "source": [
    "### Day of week, holidays"
   ]
  },
  {
   "cell_type": "code",
   "execution_count": 31,
   "metadata": {},
   "outputs": [],
   "source": [
    "# Assign day of the week and month\n",
    "visits = visits.assign(weekday = visits[\"visit_date\"].map(lambda x: x.strftime(\"%a\")))\n",
    "visits = visits.assign(month = visits[\"visit_date\"].map(lambda x: x.month))\n",
    "\n",
    "# One-hot the weekdays\n",
    "visits = pd.concat([visits, pd.get_dummies(visits[\"weekday\"])], axis=1)\n",
    "visits.drop([\"weekday\"], axis=1, inplace=True)\n",
    "\n",
    "# Assign if a public holiday\n",
    "holidays = pd.read_csv(\"../input/date_info.csv\",\n",
    "                      parse_dates = [\"calendar_date\"],\n",
    "                      index_col = [\"calendar_date\"])\n",
    "\n",
    "def is_holiday(x):\n",
    "    return holidays.loc[x, \"holiday_flg\"]\n",
    "\n",
    "visits = visits.assign(holiday = visits[\"visit_date\"].map(is_holiday))"
   ]
  },
  {
   "cell_type": "markdown",
   "metadata": {},
   "source": [
    "### Reservations"
   ]
  },
  {
   "cell_type": "code",
   "execution_count": 32,
   "metadata": {},
   "outputs": [],
   "source": [
    "# Read reservations data (AIR = 6 MB, HPG = 120 MB)\n",
    "reservations_air = pd.read_csv(\"../input/air_reserve.csv\",\n",
    "                              parse_dates=[\"visit_datetime\", \"reserve_datetime\"])\n",
    "reservations_hpg = pd.read_csv(\"../input/hpg_reserve.csv\",\n",
    "                              parse_dates=[\"visit_datetime\", \"reserve_datetime\"])\n",
    "\n",
    "# Assign AIR store number to HPG reservations data\n",
    "store_id = pd.read_csv(\"../input/store_id_relation.csv\")\n",
    "store_id.set_index([\"hpg_store_id\"], inplace=True)\n",
    "\n",
    "def get_air_store(hpg_store):\n",
    "    if hpg_store in store_id.index:\n",
    "        return store_id.loc[hpg_store,\"air_store_id\"]\n",
    "    else:\n",
    "        return np.nan\n",
    "    \n",
    "air_ids = reservations_hpg[\"hpg_store_id\"].map(get_air_store).values\n",
    "reservations_hpg = reservations_hpg.assign(air_store_id = air_ids)\n",
    "\n",
    "# drop unnecessary HPG info\n",
    "reservations_hpg.dropna(axis=0, inplace=True)\n",
    "reservations_hpg.drop([\"hpg_store_id\"], axis=1, inplace=True)\n",
    "\n",
    "# set air_store_id index\n",
    "reservations_air.set_index([\"air_store_id\"], inplace=True)\n",
    "reservations_hpg.set_index([\"air_store_id\"], inplace=True)\n",
    "\n",
    "# drop same-day reservations\n",
    "reservations_air = reservations_air[ reservations_air[\"reserve_datetime\"].map(datetime.date) !=\n",
    "                                               reservations_air[\"visit_datetime\"].map(datetime.date) ]\n",
    "reservations_hpg = reservations_hpg[ reservations_hpg[\"reserve_datetime\"].map(datetime.date) !=\n",
    "                                               reservations_hpg[\"visit_datetime\"].map(datetime.date) ]\n",
    "reservations_air.drop([\"reserve_datetime\"], axis=1, inplace=True)\n",
    "reservations_hpg.drop([\"reserve_datetime\"], axis=1, inplace=True)\n"
   ]
  },
  {
   "cell_type": "code",
   "execution_count": 33,
   "metadata": {},
   "outputs": [],
   "source": [
    "# Get reservations for each date\n",
    "# Takes a minute or two\n",
    "\n",
    "# copy reservations data and remove time-of-day info (keep date only)\n",
    "res_air = reservations_air.assign(visit_date = reservations_air[\"visit_datetime\"].map(datetime.date) ).copy()\n",
    "res_hpg = reservations_hpg.assign(visit_date = reservations_hpg[\"visit_datetime\"].map(datetime.date) ).copy()\n",
    "res_air.drop([\"visit_datetime\"], inplace=True, axis=1)\n",
    "res_hpg.drop([\"visit_datetime\"], inplace=True, axis=1)\n",
    "res_air = res_air.reset_index().groupby([\"air_store_id\", \"visit_date\"]).sum()\n",
    "res_hpg = res_hpg.reset_index().groupby([\"air_store_id\", \"visit_date\"]).sum()\n",
    "\n",
    "\n",
    "# get reservations for each store and date\n",
    "def get_res(store, datetime, file):\n",
    "    date = datetime.date()\n",
    "    if (store, date) in file.index:\n",
    "        return file.loc[(store, date)].values[0]\n",
    "    else:\n",
    "        return 0\n",
    "\n",
    "air, hpg = [], []\n",
    "for index, row in visits.iterrows():\n",
    "    air.append( get_res(row[\"air_store_id\"], row[\"visit_date\"], res_air) )\n",
    "    hpg.append( get_res(row[\"air_store_id\"], row[\"visit_date\"], res_hpg) )\n",
    "\n",
    "visits = visits.assign(res_air = air, res_hpg = hpg)"
   ]
  },
  {
   "cell_type": "code",
   "execution_count": 34,
   "metadata": {},
   "outputs": [],
   "source": [
    "# Some outliers in the air reservations, looks like mistakes, pruning these...\n",
    "prune = visits[ (visits[\"res_air\"] > 100) & (visits[\"visitors\"] < 100) ]\n",
    "for i in prune.index:\n",
    "    visits.at[i, \"res_air\"] = 0"
   ]
  },
  {
   "cell_type": "markdown",
   "metadata": {},
   "source": [
    "### Genre, location"
   ]
  },
  {
   "cell_type": "code",
   "execution_count": 35,
   "metadata": {},
   "outputs": [],
   "source": [
    "# Read store data\n",
    "stores = pd.read_csv(\"../input/air_store_info.csv\",\n",
    "                    index_col = [\"air_store_id\"])\n",
    "\n",
    "stores.drop(missing_stores, inplace=True)\n",
    "\n",
    "address = stores[\"air_area_name\"].map(str.split).values\n",
    "\n",
    "todofuken, kushi = [], []\n",
    "for store in address:\n",
    "    todofuken.append(store[0])\n",
    "    kushi.append(store[1])\n",
    "\n",
    "stores.drop([\"air_area_name\"], axis=1, inplace=True)\n",
    "stores = stores.assign(todofuken = todofuken)\n",
    "stores = stores.assign(kushi = kushi)\n",
    "\n",
    "# one-hot the genre and address\n",
    "X_numeric = stores.select_dtypes(exclude=['object']).copy()\n",
    "X_text = stores.select_dtypes(include=['object']).copy()\n",
    "X_onehot = pd.get_dummies(X_text)\n",
    "stores_onehot = pd.concat([X_numeric, X_onehot], axis=1)\n",
    "\n",
    "# drop columns with really few entries\n",
    "column_totals = stores_onehot.apply(np.sum, axis=0)\n",
    "to_drop = column_totals[ column_totals < 5 ].index\n",
    "stores_onehot = stores_onehot.drop(to_drop, axis=1)"
   ]
  },
  {
   "cell_type": "code",
   "execution_count": 36,
   "metadata": {},
   "outputs": [],
   "source": [
    "# append to visits\n",
    "visits = pd.merge(visits,stores_onehot.reset_index(), on=\"air_store_id\")"
   ]
  },
  {
   "cell_type": "markdown",
   "metadata": {},
   "source": [
    "### Restaurant is actually open in the AIR system"
   ]
  },
  {
   "cell_type": "code",
   "execution_count": 37,
   "metadata": {},
   "outputs": [],
   "source": [
    "# assign opening date to stores\n",
    "stores = stores.reset_index()\n",
    "vis = visits[visits[\"visitors\"]>0]\n",
    "stores[\"open_date\"] = stores.apply( lambda x: vis[vis[\"air_store_id\"] == x[\"air_store_id\"]][\"visit_date\"].min() , axis=1)\n",
    "stores = stores.set_index(\"air_store_id\")"
   ]
  },
  {
   "cell_type": "code",
   "execution_count": 38,
   "metadata": {},
   "outputs": [],
   "source": [
    "# assign a pre/post store-opening flag to each visit\n",
    "visits[\"is_open\"] = visits.apply( lambda x:\n",
    "                                 int(x[\"visit_date\"] >= stores.loc[x[\"air_store_id\"], \"open_date\"]), axis=1)"
   ]
  },
  {
   "cell_type": "markdown",
   "metadata": {},
   "source": [
    "### Golden week"
   ]
  },
  {
   "cell_type": "code",
   "execution_count": 39,
   "metadata": {},
   "outputs": [],
   "source": [
    "#gw is 4/29 -> 5/5\n",
    "# in 2016 this is FRI ~ THU (MON is a \"work day\")\n",
    "# in 2017 this is SAT ~ FRI (MON, TUE are \"work days\")\n",
    "\n",
    "def check_golden_week(the_date):\n",
    "    if (the_date >= datetime(2016,4,29)) and (the_date < datetime(2016,5,6)):\n",
    "        return 1\n",
    "    elif (the_date >= datetime(2017,4,29)) and (the_date < datetime(2017,5,6)):\n",
    "        return 1\n",
    "    else:\n",
    "        return 0\n",
    "\n",
    "    \n",
    "visits[\"golden_week\"] = visits.apply(lambda x: check_golden_week(x[\"visit_date\"]), axis=1)"
   ]
  },
  {
   "cell_type": "markdown",
   "metadata": {},
   "source": [
    "### Output"
   ]
  },
  {
   "cell_type": "code",
   "execution_count": 20,
   "metadata": {},
   "outputs": [],
   "source": [
    "visits = visits.reset_index().set_index([\"air_store_id\", \"visit_date\"])\n",
    "visits = visits.sort_index()\n",
    "np_array = visits.values.reshape(821, 517, 68)\n",
    "np.save(\"datapoop\", np_array)"
   ]
  },
  {
   "cell_type": "code",
   "execution_count": 1,
   "metadata": {},
   "outputs": [],
   "source": [
    "# Document the output\n",
    "print(visits.columns)"
   ]
  }
 ],
 "metadata": {
  "kernelspec": {
   "display_name": "Python 3",
   "language": "python",
   "name": "python3"
  },
  "language_info": {
   "codemirror_mode": {
    "name": "ipython",
    "version": 3
   },
   "file_extension": ".py",
   "mimetype": "text/x-python",
   "name": "python",
   "nbconvert_exporter": "python",
   "pygments_lexer": "ipython3",
   "version": "3.6.3"
  }
 },
 "nbformat": 4,
 "nbformat_minor": 2
}
